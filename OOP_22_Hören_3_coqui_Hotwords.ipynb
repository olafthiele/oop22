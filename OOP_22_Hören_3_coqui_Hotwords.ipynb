{
  "nbformat": 4,
  "nbformat_minor": 0,
  "metadata": {
    "colab": {
      "name": "OOP 22 - Hören 3 - coqui Hotwords",
      "provenance": [],
      "collapsed_sections": [],
      "authorship_tag": "ABX9TyNKl/vW07MEJjkla7MNBX4u",
      "include_colab_link": true
    },
    "kernelspec": {
      "name": "python3",
      "display_name": "Python 3"
    },
    "language_info": {
      "name": "python"
    }
  },
  "cells": [
    {
      "cell_type": "markdown",
      "metadata": {
        "id": "view-in-github",
        "colab_type": "text"
      },
      "source": [
        "<a href=\"https://colab.research.google.com/github/olafthiele/oop22/blob/main/OOP_22_H%C3%B6ren_3_coqui_Hotwords.ipynb\" target=\"_parent\"><img src=\"https://colab.research.google.com/assets/colab-badge.svg\" alt=\"Open In Colab\"/></a>"
      ]
    },
    {
      "cell_type": "markdown",
      "source": [
        "# Hören 3 - Hotwords für kleine Anwendungen\n",
        "\n",
        "Dieses Notebook erkennt mit einem kleinen Modell bestimmte Worte besonders gut.\n",
        "\n",
        "Beschreibung in den Docs: https://stt.readthedocs.io/en/latest/HotWordBoosting-Examples.html\n",
        "\n",
        "---\n",
        "\n",
        "Allgemein:\n",
        "\n",
        "Dieses Notebook läuft auf den Servern von Google, es verändert nichts auf Ihrem lokalen Rechner. Alle Eingaben werden Beendigung gelöscht.\n",
        "\n",
        "Colab Notebooks enthalten Text- oder Codeblöcke. Codeblöcke werden durch SHIFT-ENTER ausgeführt (oder Play-Symbol oben links klicken).\n",
        "\n",
        "Solange ein Block ausgeführt wird, wird nicht mehr die Nr [3] des Blocks, sondern ein Kreis angezeigt.\n",
        "\n",
        "Sie können beliebig Daten verändern, das geschieht nur für Sie."
      ],
      "metadata": {
        "id": "f1wY7k1I0qo5"
      }
    },
    {
      "cell_type": "code",
      "execution_count": null,
      "metadata": {
        "id": "kUaus98Ha3_5"
      },
      "outputs": [],
      "source": [
        "# Installieren von stt mit pypi\n",
        "!pip install stt\n",
        "\n",
        "# Modelle von https://github.com/AASHISHAG/deepspeech-german\n",
        "!gdown --id 1MnjoAklMtJlpG1eDP6uD_Izvt36nPpiq -O small-model.tflite\n",
        "!gdown --id 1BY-G-W3bwuVvEWy7Gg_sR7gMSqDmC1pi -O kenlm.scorer\n",
        "\n",
        "# Testdateien\n",
        "!wget http://ainblick.de/test/oop1.wav\n",
        "!wget http://ainblick.de/test/oop2.wav\n",
        "\n",
        "# Optionen anzeigen\n",
        "!stt -h"
      ]
    },
    {
      "cell_type": "code",
      "source": [
        "# Test ob STT und wavs richtig installiert sind\n",
        "!stt --model small-model.tflite --audio oop1.wav \n",
        "\n",
        "# Erweiterte Ausgabe mit Zeitmarken und Alternativen\n",
        "!stt --model small-model.tflite --audio oop2.wav --json --candidate_transcripts 3"
      ],
      "metadata": {
        "id": "0Bs569LVc4c-"
      },
      "execution_count": null,
      "outputs": []
    },
    {
      "cell_type": "code",
      "source": [
        "# imports for uploading/recording\n",
        "!pip install -q https://github.com/tugstugi/dl-colab-notebooks/archive/colab_utils.zip\n",
        "import ipywidgets as widgets\n",
        "from IPython.display import Audio, display, clear_output\n",
        "from dl_colab_notebooks.audio import record_audio, upload_audio\n",
        "import numpy as np\n",
        "from scipy.io import wavfile\n",
        "import subprocess"
      ],
      "metadata": {
        "id": "Q8LDM_nnrHJe"
      },
      "execution_count": null,
      "outputs": []
    },
    {
      "cell_type": "code",
      "source": [
        "#@markdown Beim Klicken werden 2 Sekunden automatisch aufgezeichnet und transkribiert{ run: \"auto\" }\n",
        "\n",
        "#Code: https://colab.research.google.com/github/tugstugi/dl-colab-notebooks/blob/master/notebooks/SileroSTT.ipynb\n",
        "\n",
        "SAMPLE_RATE = 16000\n",
        "record_seconds =  2\n",
        "hotwords =  \"start:25,stop:25\"#@param {type:\"string\"}\n",
        "\n",
        "def _recognize(audio):\n",
        "  display(Audio(audio, rate=SAMPLE_RATE, autoplay=True))\n",
        "  wavfile.write('test.wav', SAMPLE_RATE, (32767*audio).astype(np.int16))\n",
        "\n",
        "  s = subprocess.run(['stt', '--model', 'small-model.tflite', '--audio', 'test.wav', '--scorer', 'kenlm.scorer', '--hot_words', hotwords ], stdout=subprocess.PIPE) \n",
        "  print(\"Ergebnis: \" + (s.stdout).decode('UTF-8'))\n",
        "\n",
        "clear_output()\n",
        "audio = record_audio(record_seconds, sample_rate=SAMPLE_RATE)\n",
        "_recognize(audio)\n"
      ],
      "metadata": {
        "cellView": "form",
        "id": "6qG4WwW4hwmV"
      },
      "execution_count": null,
      "outputs": []
    },
    {
      "cell_type": "code",
      "source": [
        "# Boost Werte um die 20-30, nicht über 100, sonst komische Ergebnisse\n",
        "!stt --model small-model.tflite --audio test.wav --scorer kenlm.scorer --hot_words \"stark:2215,nein:15\""
      ],
      "metadata": {
        "id": "AxirXiGZkKaG"
      },
      "execution_count": null,
      "outputs": []
    }
  ]
}