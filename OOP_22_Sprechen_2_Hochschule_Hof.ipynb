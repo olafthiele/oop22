{
  "nbformat": 4,
  "nbformat_minor": 0,
  "metadata": {
    "colab": {
      "name": "OOP 22 - Sprechen 2 - Hochschule Hof",
      "provenance": [],
      "authorship_tag": "ABX9TyM2ujsdZNl1LkXp5d60ua4K",
      "include_colab_link": true
    },
    "kernelspec": {
      "name": "python3",
      "display_name": "Python 3"
    },
    "language_info": {
      "name": "python"
    }
  },
  "cells": [
    {
      "cell_type": "markdown",
      "metadata": {
        "id": "view-in-github",
        "colab_type": "text"
      },
      "source": [
        "<a href=\"https://colab.research.google.com/github/olafthiele/oop22/blob/main/OOP_22_Sprechen_2_Hochschule_Hof.ipynb\" target=\"_parent\"><img src=\"https://colab.research.google.com/assets/colab-badge.svg\" alt=\"Open In Colab\"/></a>"
      ]
    },
    {
      "cell_type": "markdown",
      "source": [
        "# Sprechen 2 - Hochschule Hof mit Hokuspokus (weiblich)\n",
        "\n",
        "Dieses Notebook erzeugt Aussagen der Stimme Hokuspokus mit esp2net:\n",
        "https://github.com/iisys-hof/tts_webservice\n",
        "\n",
        "---\n",
        "\n",
        "Allgemein:\n",
        "\n",
        "Dieses Notebook läuft auf den Servern von Google, es verändert nichts auf Ihrem lokalen Rechner. Alle Eingaben werden Beendigung gelöscht.\n",
        "\n",
        "Colab Notebooks enthalten Text- oder Codeblöcke. Codeblöcke werden durch SHIFT-ENTER ausgeführt (oder Play-Symbol oben links klicken).\n",
        "\n",
        "Solange ein Block ausgeführt wird, wird nicht mehr die Nr [3] des Blocks, sondern ein Kreis angezeigt.\n",
        "\n",
        "Sie können beliebig Daten verändern, das geschieht nur für Sie."
      ],
      "metadata": {
        "id": "F8efRZl8W7my"
      }
    },
    {
      "cell_type": "code",
      "execution_count": null,
      "metadata": {
        "id": "TKb65Fu2uOZX"
      },
      "outputs": [],
      "source": [
        "# Hofer Quellcode laden und installieren\n",
        "!git clone https://github.com/iisys-hof/tts_webservice.git\n",
        "%cd tts_webservice\n",
        "!pip install -r requirements.txt\n",
        "\n",
        "# Modell laden, hier nur ein Teil direkt von unserer Seite, sonst auf Hofer github\n",
        "!wget http://ainblick.de/test/hokuspokus.zip \n",
        "!mkdir -p tts_inferencer/speakers\n",
        "!mv hokuspokus.zip tts_inferencer/speakers\n",
        "%cd tts_inferencer/speakers\n",
        "!unzip hokuspokus.zip\n",
        "!mv hokuspokus hokuspokus_full\n",
        "!rm hokuspokus.zip\n",
        "%cd ../..\n",
        "!mkdir temp\n",
        "\n",
        "!rm tts_inferencer/speakers/hokuspokus_full/tacotron2/train.loss.best.pth\n",
        "!mv tts_inferencer/speakers/hokuspokus_full/tacotron2/115epoch.pth tts_inferencer/speakers/hokuspokus_full/tacotron2/train.loss.best.pth \n",
        "\n",
        "import nltk\n",
        "nltk.download('punkt')"
      ]
    },
    {
      "cell_type": "code",
      "source": [
        "# Inferenz-Engine starten und Modelle laden\n",
        "import tts_inferencer\n",
        "models = tts_inferencer.get_models()"
      ],
      "metadata": {
        "id": "SqtPPYiqA1UF"
      },
      "execution_count": null,
      "outputs": []
    },
    {
      "cell_type": "code",
      "source": [
        "# Normales wave von Hokuspokus erzeugen\n",
        "wav = tts_inferencer.inference(\"Sorge vor der Olympia Coronawelle in China. Polizistenmorde aufgeklärt.\", **tts_inferencer.get_models()['hokuspokus_full'])\n",
        "\n",
        "import IPython.display as ipd\n",
        "ipd.Audio(wav) # load a local WAV file"
      ],
      "metadata": {
        "id": "eOwM4QT11Fx_"
      },
      "execution_count": null,
      "outputs": []
    },
    {
      "cell_type": "code",
      "source": [
        "# Internationales Beispiel\n",
        "wav = tts_inferencer.inference(\"Donald Trump und Joe Biden sind Präsidenten der United States.\", **tts_inferencer.get_models()['hokuspokus_full'])\n",
        "\n",
        "import IPython.display as ipd\n",
        "ipd.Audio(wav) # load a local WAV file"
      ],
      "metadata": {
        "id": "BDtVrsqEz-kT"
      },
      "execution_count": null,
      "outputs": []
    },
    {
      "cell_type": "code",
      "source": [
        ""
      ],
      "metadata": {
        "id": "hl04Igcd1TwB"
      },
      "execution_count": null,
      "outputs": []
    },
    {
      "cell_type": "code",
      "source": [
        ""
      ],
      "metadata": {
        "id": "gqC8VoHC10Z3"
      },
      "execution_count": null,
      "outputs": []
    },
    {
      "cell_type": "code",
      "source": [
        ""
      ],
      "metadata": {
        "id": "m07TehEg3L4c"
      },
      "execution_count": null,
      "outputs": []
    },
    {
      "cell_type": "code",
      "source": [
        "\n"
      ],
      "metadata": {
        "id": "QZ_Eo9HX3QBM"
      },
      "execution_count": null,
      "outputs": []
    },
    {
      "cell_type": "code",
      "source": [
        ""
      ],
      "metadata": {
        "id": "I-qUx2Rw34Oj"
      },
      "execution_count": null,
      "outputs": []
    }
  ]
}