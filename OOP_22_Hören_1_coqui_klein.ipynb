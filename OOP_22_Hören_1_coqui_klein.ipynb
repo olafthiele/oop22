{
  "nbformat": 4,
  "nbformat_minor": 0,
  "metadata": {
    "colab": {
      "name": "OOP 22 - Hören 1 coqui klein",
      "provenance": [],
      "authorship_tag": "ABX9TyMx9mA9A+XEKyV5A3GkuCeO",
      "include_colab_link": true
    },
    "kernelspec": {
      "name": "python3",
      "display_name": "Python 3"
    },
    "language_info": {
      "name": "python"
    }
  },
  "cells": [
    {
      "cell_type": "markdown",
      "metadata": {
        "id": "view-in-github",
        "colab_type": "text"
      },
      "source": [
        "<a href=\"https://colab.research.google.com/github/olafthiele/oop22/blob/main/OOP_22_H%C3%B6ren_1_coqui_klein.ipynb\" target=\"_parent\"><img src=\"https://colab.research.google.com/assets/colab-badge.svg\" alt=\"Open In Colab\"/></a>"
      ]
    },
    {
      "cell_type": "markdown",
      "source": [
        "# Hören 1 - Kleines coqui Modell\n",
        "\n",
        "Dieses Notebook erkennt mit einem kleinen Modell von 40 MB Größe eine heruntergeladene Testdatei.\n",
        "\n",
        "Doku für andere Programmiersprachen: https://stt.readthedocs.io/en/latest/Python-Examples.html\n",
        "\n",
        "---\n",
        "\n",
        "Allgemein:\n",
        "\n",
        "Dieses Notebook läuft auf den Servern von Google, es verändert nichts auf Ihrem lokalen Rechner. Alle Eingaben werden Beendigung gelöscht.\n",
        "\n",
        "Colab Notebooks enthalten Text- oder Codeblöcke. Codeblöcke werden durch SHIFT-ENTER ausgeführt (oder Play-Symbol oben links klicken).\n",
        "\n",
        "Solange ein Block ausgeführt wird, wird nicht mehr die Nr [3] des Blocks, sondern ein Kreis angezeigt.\n",
        "\n",
        "Sie können beliebig Daten verändern, das geschieht nur für Sie."
      ],
      "metadata": {
        "id": "jSjQaCNYnLo3"
      }
    },
    {
      "cell_type": "code",
      "execution_count": null,
      "metadata": {
        "id": "I_g2RZcYYWZ6"
      },
      "outputs": [],
      "source": [
        "# coqui stt installieren\n",
        "!pip install stt\n",
        "\n",
        "# Modell herunterladen von https://github.com/AASHISHAG/deepspeech-german\n",
        "!gdown --id 1MnjoAklMtJlpG1eDP6uD_Izvt36nPpiq -O small-model.tflite # 47MB\n",
        "\n",
        "# Testaudios herunterladen\n",
        "!wget http://ainblick.de/test/oop1.wav\n",
        "!wget http://ainblick.de/test/oop2.wav\n",
        "\n",
        "# Testaudio oop1.wav anzeigen\n",
        "import IPython.display as ipd\n",
        "ipd.Audio('oop1.wav') # load a local WAV file"
      ]
    },
    {
      "cell_type": "code",
      "source": [
        "# Der Aufruf mit ! läuft auf Linux-Kommandozeile und ist aus jedem Code aufrufbar, aber Modelle können nich vorgehalten werden\n",
        "!stt --model small-model.tflite --audio oop1.wav "
      ],
      "metadata": {
        "id": "m3zzs5r_ZDAW"
      },
      "execution_count": null,
      "outputs": []
    },
    {
      "cell_type": "code",
      "source": [
        "import IPython.display as ipd\n",
        "ipd.Audio('oop2.wav') # load a local WAV file"
      ],
      "metadata": {
        "id": "36h_wYz2dJzh"
      },
      "execution_count": null,
      "outputs": []
    },
    {
      "cell_type": "code",
      "source": [
        "# Ein 40MB Modell ist beschränkt in seinem Inhalt\n",
        "!stt --model small-model.tflite --audio oop2.wav"
      ],
      "metadata": {
        "id": "bIGvF1XAdKce"
      },
      "execution_count": null,
      "outputs": []
    }
  ]
}